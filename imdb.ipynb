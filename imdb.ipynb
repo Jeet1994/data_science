{
 "cells": [
  {
   "cell_type": "code",
   "execution_count": null,
   "metadata": {
    "collapsed": false
   },
   "outputs": [],
   "source": [
    "%matplotlib inline\n",
    "from  matplotlib import pyplot as plt\n",
    "from pandas import Series, DataFrame\n",
    "import pandas as pd\n",
    "import numpy as np"
   ]
  },
  {
   "cell_type": "code",
   "execution_count": null,
   "metadata": {
    "collapsed": false,
    "scrolled": true
   },
   "outputs": [],
   "source": [
    "data11 = pd.read_csv('data_set/imdb1.txt', sep=\",\", header = None,error_bad_lines=False)\n",
    "data11.columns = [\"movie_name\", \"gener\", \"year\", \"rating\"]\n",
    "data11"
   ]
  },
  {
   "cell_type": "code",
   "execution_count": null,
   "metadata": {
    "collapsed": false
   },
   "outputs": [],
   "source": [
    "data12 = pd.read_csv('data_set/imdb2.txt', sep=\",\", header = None,error_bad_lines=False)\n",
    "data12.columns = [\"movie_name\", \"gener\", \"year\", \"rating\"]\n",
    "#data12"
   ]
  },
  {
   "cell_type": "code",
   "execution_count": null,
   "metadata": {
    "collapsed": false
   },
   "outputs": [],
   "source": [
    "data13 = pd.read_csv('data_set/imdb3.txt', sep=\",\", header = None,error_bad_lines=False)\n",
    "data13.columns = [\"movie_name\", \"gener\", \"year\", \"rating\"]\n",
    "#data13"
   ]
  },
  {
   "cell_type": "code",
   "execution_count": null,
   "metadata": {
    "collapsed": false
   },
   "outputs": [],
   "source": [
    "data14 = pd.read_csv('data_set/imdb4.txt', sep=\",\", header = None,error_bad_lines=False)\n",
    "data14.columns = [\"movie_name\", \"gener\", \"year\", \"rating\"]\n",
    "#data14"
   ]
  },
  {
   "cell_type": "code",
   "execution_count": null,
   "metadata": {
    "collapsed": false
   },
   "outputs": [],
   "source": [
    "data15 = pd.read_csv('data_set/imdb5.txt', sep=\",\", header = None,error_bad_lines=False)\n",
    "data15.columns = [\"movie_name\", \"gener\", \"year\", \"rating\"]\n",
    "#data15"
   ]
  },
  {
   "cell_type": "code",
   "execution_count": null,
   "metadata": {
    "collapsed": false
   },
   "outputs": [],
   "source": [
    "#value_list=['Horror']\n",
    "#df_horror = data1[data1.gener.isin(value_list)]"
   ]
  },
  {
   "cell_type": "code",
   "execution_count": null,
   "metadata": {
    "collapsed": false
   },
   "outputs": [],
   "source": [
    "#horror_mean = df_horror[\"rating\"].mean()\n",
    "#df_horror\n",
    "#horror_mean"
   ]
  },
  {
   "cell_type": "code",
   "execution_count": null,
   "metadata": {
    "collapsed": false
   },
   "outputs": [],
   "source": [
    "value_list=['Horror', 'Drama', 'Comedy', 'Action', 'Biography', 'Crime',\n",
    "       'Thriller', 'Adventure', 'Family', 'Animation', 'Mystery', 'Sci-Fi',\n",
    "       'Fantasy', 'Western', 'Romance', 'Music',  'War', 'Musical', 'History']\n",
    "y_11 =[]\n",
    "for i in value_list:\n",
    "    s= []\n",
    "    s.append(i)\n",
    "    i = data11[data11.gener.isin(s)]\n",
    "    y_11.append(i)\n",
    "m =[]\n",
    "for j in range(len(value_list)):\n",
    "    k = y_11[j][\"rating\"].mean()\n",
    "    m.append(k)\n",
    "\n",
    "\n",
    "#drama_mean = df_drama[\"rating\"].mean()\n",
    "#drama_mean"
   ]
  },
  {
   "cell_type": "code",
   "execution_count": null,
   "metadata": {
    "collapsed": false
   },
   "outputs": [],
   "source": [
    "y_12 =[]\n",
    "for i in value_list:\n",
    "    s= []\n",
    "    s.append(i)\n",
    "    i = data12[data12.gener.isin(s)]\n",
    "    y_12.append(i)\n",
    "m_12 =[]\n",
    "for j in range(len(value_list)):\n",
    "    k = y_12[j][\"rating\"].mean()\n",
    "    m_12.append(k)\n",
    "\n",
    "\n",
    "\n",
    "#len(value_list)\n",
    "\n",
    "#pd.unique(data1.gener.ravel())"
   ]
  },
  {
   "cell_type": "code",
   "execution_count": null,
   "metadata": {
    "collapsed": true
   },
   "outputs": [],
   "source": [
    "y_13 =[]\n",
    "for i in value_list:\n",
    "    s= []\n",
    "    s.append(i)\n",
    "    i = data13[data13.gener.isin(s)]\n",
    "    y_13.append(i)\n",
    "m_13 =[]\n",
    "for j in range(len(value_list)):\n",
    "    k = y_13[j][\"rating\"].mean()\n",
    "    m_13.append(k)\n"
   ]
  },
  {
   "cell_type": "code",
   "execution_count": null,
   "metadata": {
    "collapsed": true
   },
   "outputs": [],
   "source": [
    "y_14 =[]\n",
    "for i in value_list:\n",
    "    s= []\n",
    "    s.append(i)\n",
    "    i = data14[data14.gener.isin(s)]\n",
    "    y_14.append(i)\n",
    "m_14 =[]\n",
    "for j in range(len(value_list)):\n",
    "    k = y_14[j][\"rating\"].mean()\n",
    "    m_14.append(k)\n"
   ]
  },
  {
   "cell_type": "code",
   "execution_count": null,
   "metadata": {
    "collapsed": false
   },
   "outputs": [],
   "source": [
    "y_15 =[]\n",
    "for i in value_list:\n",
    "    s= []\n",
    "    s.append(i)\n",
    "    i = data15[data15.gener.isin(s)]\n",
    "    y_15.append(i)\n",
    "m_15 =[]\n",
    "for j in range(len(value_list)):\n",
    "    k = y_15[j][\"rating\"].mean()\n",
    "    m_15.append(k)\n",
    "y_15"
   ]
  },
  {
   "cell_type": "code",
   "execution_count": null,
   "metadata": {
    "collapsed": false,
    "scrolled": true
   },
   "outputs": [],
   "source": [
    "pos = list(range(len(value_list)))\n",
    "width = 0.10\n",
    "fig, ax = plt.subplots(figsize=(15,8))\n",
    "plt.bar(pos,\n",
    "        m,\n",
    "        width,\n",
    "        alpha=0.5,\n",
    "        color='#EE3224',\n",
    "        )\n",
    "plt.bar([p + width for p in pos],\n",
    "        m_12,\n",
    "        width,\n",
    "        alpha=0.5,        \n",
    "        color='#F78F1E',\n",
    "        )\n",
    "\n",
    "        \n",
    "plt.bar([p + width + .14 for p in pos],\n",
    "        m_13,\n",
    "        width,\n",
    "        alpha=0.5,\n",
    "        color='black',\n",
    "        )\n",
    "plt.bar([p + width + .24 for p in pos],        \n",
    "        m_14,        \n",
    "        width,\n",
    "        alpha=0.5,\n",
    "        color='purple',\n",
    "        )\n",
    "plt.bar([p + width + .39 for p in pos],\n",
    "        m_15,\n",
    "        width,\n",
    "        alpha=0.5,\n",
    "        color='magenta',\n",
    "        )\n",
    "\n",
    "ax.set_xticks([p + 1.5 * width for p in pos])\n",
    "x_name = ax.set_xticklabels(value_list)\n",
    "plt.setp(x_name, rotation=45, fontsize=11)\n",
    "plt.ylim(0,10)\n",
    "plt.legend(['2011', '2012', '2013','2014','2015'], loc='upper left')\n"
   ]
  },
  {
   "cell_type": "code",
   "execution_count": null,
   "metadata": {
    "collapsed": false
   },
   "outputs": [],
   "source": [
    "def rec_movie():\n",
    "    try:\n",
    "        top_five=[]\n",
    "        for i in range(len(gener)):\n",
    "                value_list_index = value_list.index(gener[i])\n",
    "                if year==\"2015\":\n",
    "                    top_five =  y_15[value_list_index].sort('rating', ascending=False).head(5)\n",
    "                elif year==\"2014\":\n",
    "                    top_five =  y_14[value_list_index].sort('rating', ascending=False).head(5)\n",
    "                elif year==\"2013\":\n",
    "                    top_five =  y_13[value_list_index].sort('rating', ascending=False).head(5)\n",
    "                elif year==\"2012\":\n",
    "                    top_five =  y_12[value_list_index].sort('rating', ascending=False).head(5)\n",
    "                elif year==\"2011\":\n",
    "                    top_five =  y_11[value_list_index].sort('rating', ascending=False).head(5)\n",
    "                else:\n",
    "                    print \"Year is not in Range 2011-2015 !!!\"\n",
    "                print user_name + ' according to your choice of gener and year we recomend theses movies'\n",
    "                print top_five\n",
    "    except:\n",
    "        print \"Please enter correct Gener!!\"\n",
    "gener = []\n",
    "user_name  = raw_input(\"Enter YOUR NAME: \")\n",
    "print \"Select the input: \" + '\\n '.join(value_list) + \"\\n\"\n",
    "user_gener = raw_input(\"What genre of movies do you like?\")\n",
    "year = raw_input(\"You want to watch a movie from which YEAR?: \")\n",
    "gener.append(user_gener)\n",
    "recomended_movie=[]\n",
    "rec_movie()\n",
    "\n"
   ]
  },
  {
   "cell_type": "code",
   "execution_count": null,
   "metadata": {
    "collapsed": true
   },
   "outputs": [],
   "source": []
  }
 ],
 "metadata": {
  "kernelspec": {
   "display_name": "Python 2",
   "language": "python",
   "name": "python2"
  },
  "language_info": {
   "codemirror_mode": {
    "name": "ipython",
    "version": 2
   },
   "file_extension": ".py",
   "mimetype": "text/x-python",
   "name": "python",
   "nbconvert_exporter": "python",
   "pygments_lexer": "ipython2",
   "version": "2.7.9"
  }
 },
 "nbformat": 4,
 "nbformat_minor": 0
}
